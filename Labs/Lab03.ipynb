{
  "nbformat": 4,
  "nbformat_minor": 0,
  "metadata": {
    "colab": {
      "name": "Lab03.ipynb",
      "provenance": [],
      "toc_visible": true,
      "authorship_tag": "ABX9TyP5eXGeuUBoliZ5nJdr9GpQ",
      "include_colab_link": true
    },
    "kernelspec": {
      "name": "python3",
      "display_name": "Python 3"
    },
    "language_info": {
      "name": "python"
    }
  },
  "cells": [
    {
      "cell_type": "markdown",
      "metadata": {
        "id": "view-in-github",
        "colab_type": "text"
      },
      "source": [
        "<a href=\"https://colab.research.google.com/github/huynhhoc/DataAnalystDeepLearning/blob/main/Labs/Lab03.ipynb\" target=\"_parent\"><img src=\"https://colab.research.google.com/assets/colab-badge.svg\" alt=\"Open In Colab\"/></a>"
      ]
    },
    {
      "cell_type": "markdown",
      "metadata": {
        "id": "j7Tp_tunpFvf"
      },
      "source": [
        ""
      ]
    },
    {
      "cell_type": "markdown",
      "metadata": {
        "id": "qlw_y65DpHKr"
      },
      "source": [
        "# Cleaning dataset\n",
        "Several problems regarding dataset:\n",
        "1. Missing header\n",
        "2. Multi-variables in one columns\n",
        "3. Inconsitence values\n",
        "4. Null values\n",
        "5. Duplicated values\n",
        "6. Inconsitence characters (error ASCII-based format)\n",
        "7. Missing values\n"
      ]
    },
    {
      "cell_type": "markdown",
      "metadata": {
        "id": "AFKo7OjLqek_"
      },
      "source": [
        ""
      ]
    }
  ]
}