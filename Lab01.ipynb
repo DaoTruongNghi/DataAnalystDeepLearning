{
  "nbformat": 4,
  "nbformat_minor": 0,
  "metadata": {
    "colab": {
      "name": "Lab01.ipynb",
      "provenance": [],
      "authorship_tag": "ABX9TyMN28IzBVwsUQz0WXV6BNOT",
      "include_colab_link": true
    },
    "kernelspec": {
      "name": "python3",
      "display_name": "Python 3"
    },
    "language_info": {
      "name": "python"
    }
  },
  "cells": [
    {
      "cell_type": "markdown",
      "metadata": {
        "id": "view-in-github",
        "colab_type": "text"
      },
      "source": [
        "<a href=\"https://colab.research.google.com/github/huynhhoc/DataAnalystDeepLearning/blob/main/Lab01.ipynb\" target=\"_parent\"><img src=\"https://colab.research.google.com/assets/colab-badge.svg\" alt=\"Open In Colab\"/></a>"
      ]
    },
    {
      "cell_type": "code",
      "metadata": {
        "id": "xfr5iiD1DJov"
      },
      "source": [
        ""
      ],
      "execution_count": null,
      "outputs": []
    },
    {
      "cell_type": "markdown",
      "metadata": {
        "id": "ylVSJFdFDK4c"
      },
      "source": [
        "Example 7:"
      ]
    },
    {
      "cell_type": "code",
      "metadata": {
        "colab": {
          "base_uri": "https://localhost:8080/"
        },
        "id": "y1S8E9LDDKjJ",
        "outputId": "1c771692-b505-43f9-fb60-a953e9feac5c"
      },
      "source": [
        "import pandas as pd\n",
        "heartDisease = pd.read_csv(\"https://raw.githubusercontent.com/huynhhoc/DataAnalystDeepLearning/main/heart_disease_dataset.csv\")\n",
        "print (heartDisease)"
      ],
      "execution_count": 1,
      "outputs": [
        {
          "output_type": "stream",
          "name": "stdout",
          "text": [
            "      age  sex   cp  trestbps   chol  ... oldpeak  slope   ca  thal  state\n",
            "0    63.0    M  tap     145.0  233.0  ...     2.3    3.0  0.0   6.0    0.0\n",
            "1    67.0    M  asp     160.0  286.0  ...     1.5    2.0  3.0   3.0    2.0\n",
            "2    67.0    M  asp     120.0  229.0  ...     2.6    2.0  2.0   7.0    1.0\n",
            "3    37.0    M  nap     130.0  250.0  ...     3.5    3.0  0.0   3.0    0.0\n",
            "4    41.0    F  aap     130.0  204.0  ...     1.4    1.0  0.0   3.0    0.0\n",
            "..    ...  ...  ...       ...    ...  ...     ...    ...  ...   ...    ...\n",
            "298  45.0    M  tap     110.0  264.0  ...     1.2    2.0  0.0   7.0    1.0\n",
            "299  68.0    M  asp     144.0  193.0  ...     3.4    2.0  2.0   7.0    2.0\n",
            "300   NaN  NaN  NaN       NaN    NaN  ...     NaN    NaN  NaN   NaN    NaN\n",
            "301  57.0    F  aap     130.0  236.0  ...     0.0    2.0  1.0   3.0    1.0\n",
            "302  38.0    M  nap     138.0  175.0  ...     0.0    1.0  NaN   3.0    0.0\n",
            "\n",
            "[303 rows x 14 columns]\n"
          ]
        }
      ]
    },
    {
      "cell_type": "markdown",
      "metadata": {
        "id": "cJxrmy_ardfS"
      },
      "source": [
        "Read data without header"
      ]
    },
    {
      "cell_type": "code",
      "metadata": {
        "colab": {
          "base_uri": "https://localhost:8080/"
        },
        "id": "h2o81ITtrOrc",
        "outputId": "36abcc6a-ca39-4fe0-86f1-a47bc5f4a24a"
      },
      "source": [
        "import pandas as pd\n",
        "heartDisease = pd.read_csv(\"https://raw.githubusercontent.com/huynhhoc/DataAnalystDeepLearning/main/heart_disease_dataset.csv\", header = None)\n",
        "print (heartDisease)"
      ],
      "execution_count": 2,
      "outputs": [
        {
          "output_type": "stream",
          "name": "stdout",
          "text": [
            "      0    1    2         3     4   ...       9      10   11    12     13\n",
            "0    age  sex   cp  trestbps  chol  ...  oldpeak  slope   ca  thal  state\n",
            "1     63    M  tap       145   233  ...      2.3      3    0     6      0\n",
            "2     67    M  asp       160   286  ...      1.5      2    3     3      2\n",
            "3     67    M  asp       120   229  ...      2.6      2    2     7      1\n",
            "4     37    M  nap       130   250  ...      3.5      3    0     3      0\n",
            "..   ...  ...  ...       ...   ...  ...      ...    ...  ...   ...    ...\n",
            "299   45    M  tap       110   264  ...      1.2      2    0     7      1\n",
            "300   68    M  asp       144   193  ...      3.4      2    2     7      2\n",
            "301  NaN  NaN  NaN       NaN   NaN  ...      NaN    NaN  NaN   NaN    NaN\n",
            "302   57    F  aap       130   236  ...        0      2    1     3      1\n",
            "303   38    M  nap       138   175  ...        0      1  NaN     3      0\n",
            "\n",
            "[304 rows x 14 columns]\n"
          ]
        }
      ]
    },
    {
      "cell_type": "markdown",
      "metadata": {
        "id": "COZb1jNqw7Sr"
      },
      "source": [
        ""
      ]
    },
    {
      "cell_type": "code",
      "metadata": {
        "colab": {
          "base_uri": "https://localhost:8080/"
        },
        "id": "s2Sdn9VlrSgK",
        "outputId": "56e633f5-fde8-487d-b946-d9797783e3c7"
      },
      "source": [
        "import pandas as pd\n",
        "import numpy as np\n",
        "frame = pd.DataFrame(np.arange(16).reshape(4,4),index = ['red', 'blue', 'yellow','white'],columns = ['ball', 'pen', 'pencil', 'paper'])\n",
        "print(frame)"
      ],
      "execution_count": 7,
      "outputs": [
        {
          "output_type": "stream",
          "name": "stdout",
          "text": [
            "        ball  pen  pencil  paper\n",
            "red        0    1       2      3\n",
            "blue       4    5       6      7\n",
            "yellow     8    9      10     11\n",
            "white     12   13      14     15\n"
          ]
        }
      ]
    },
    {
      "cell_type": "code",
      "metadata": {
        "id": "GnOy43VBq42d"
      },
      "source": [
        "frame.to_csv('D:/VanLang/021-2022/DataAnalyst/lab01_example8.csv')"
      ],
      "execution_count": null,
      "outputs": []
    },
    {
      "cell_type": "code",
      "metadata": {
        "id": "xHUcZ6DqxpgR"
      },
      "source": [
        ""
      ],
      "execution_count": null,
      "outputs": []
    }
  ]
}