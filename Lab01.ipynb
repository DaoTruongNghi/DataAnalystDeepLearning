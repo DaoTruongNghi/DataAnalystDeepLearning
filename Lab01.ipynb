{
  "nbformat": 4,
  "nbformat_minor": 0,
  "metadata": {
    "colab": {
      "name": "Lab01.ipynb",
      "provenance": [],
      "authorship_tag": "ABX9TyOeaF7x3DFBhpuVDqATsH+6",
      "include_colab_link": true
    },
    "kernelspec": {
      "name": "python3",
      "display_name": "Python 3"
    },
    "language_info": {
      "name": "python"
    }
  },
  "cells": [
    {
      "cell_type": "markdown",
      "metadata": {
        "id": "view-in-github",
        "colab_type": "text"
      },
      "source": [
        "<a href=\"https://colab.research.google.com/github/huynhhoc/DataAnalystDeepLearning/blob/main/Lab01.ipynb\" target=\"_parent\"><img src=\"https://colab.research.google.com/assets/colab-badge.svg\" alt=\"Open In Colab\"/></a>"
      ]
    },
    {
      "cell_type": "markdown",
      "metadata": {
        "id": "slQNqjJS1lWN"
      },
      "source": [
        "**Dataset** \n",
        "Dataset file name: heart_disease_dataset.csv \n",
        "(https://github.com/huynhhoc/DataAnalystDeepLearning/blob/main/heart_disease_dataset.csv)\n",
        "\n",
        "**Dataset description**: Dataset contains different features along with the disease state. It contains total 13 features and an additional disease state, in total 14 columns. It contains different types of data including int, float and string. Feature names, data type and values are described in the following section with their proper unit details. Data may contain 'null' or 'nan' values. Each observation is a datapoint along the row of the dataset. Patient and observation are used interchangeably in this case. \n",
        " \n",
        "**Features**: i. age (int): age of the patient in year ii. sex (str): gender of the patient (M: male, F: female) iii. cp (str): chest pain type (tap: typical angina, aap: atypical angina, nap: non-anginal pain, asp: asymptomatic pain) iv. trestbps (float): resting blood pressure (in mm Hg on admission to the hospital) v. chol (float): serum cholesterol in mg/dl vi. fbs (bool): is fasting blood sugar higher than standard 120 mg/dl? (yes: if true; no: if false) vii. restecg (int): resting electrocardiographic results (0: normal, 1: having ST-T wave abnormality (T wave inversions and/or ST elevation or depression of > 0.05 mV), 2: showing probable or definite left ventricular hypertrophy by Estes' criteria) viii. thalach (float): maximum heart rate achieved ix. exang (bool): exercise induced angina (true: if yes; false: if no) x. oldpeak (float): ST interval depression induced by exercise relative to rest\n",
        "\n",
        "(**sources**: from **Deakin University**) "
      ]
    },
    {
      "cell_type": "markdown",
      "metadata": {
        "id": "ylVSJFdFDK4c"
      },
      "source": [
        "Example 7:"
      ]
    },
    {
      "cell_type": "code",
      "metadata": {
        "colab": {
          "base_uri": "https://localhost:8080/"
        },
        "id": "y1S8E9LDDKjJ",
        "outputId": "1c771692-b505-43f9-fb60-a953e9feac5c"
      },
      "source": [
        "import pandas as pd\n",
        "heartDisease = pd.read_csv(\"https://raw.githubusercontent.com/huynhhoc/DataAnalystDeepLearning/main/heart_disease_dataset.csv\")\n",
        "print (heartDisease)"
      ],
      "execution_count": 1,
      "outputs": [
        {
          "output_type": "stream",
          "name": "stdout",
          "text": [
            "      age  sex   cp  trestbps   chol  ... oldpeak  slope   ca  thal  state\n",
            "0    63.0    M  tap     145.0  233.0  ...     2.3    3.0  0.0   6.0    0.0\n",
            "1    67.0    M  asp     160.0  286.0  ...     1.5    2.0  3.0   3.0    2.0\n",
            "2    67.0    M  asp     120.0  229.0  ...     2.6    2.0  2.0   7.0    1.0\n",
            "3    37.0    M  nap     130.0  250.0  ...     3.5    3.0  0.0   3.0    0.0\n",
            "4    41.0    F  aap     130.0  204.0  ...     1.4    1.0  0.0   3.0    0.0\n",
            "..    ...  ...  ...       ...    ...  ...     ...    ...  ...   ...    ...\n",
            "298  45.0    M  tap     110.0  264.0  ...     1.2    2.0  0.0   7.0    1.0\n",
            "299  68.0    M  asp     144.0  193.0  ...     3.4    2.0  2.0   7.0    2.0\n",
            "300   NaN  NaN  NaN       NaN    NaN  ...     NaN    NaN  NaN   NaN    NaN\n",
            "301  57.0    F  aap     130.0  236.0  ...     0.0    2.0  1.0   3.0    1.0\n",
            "302  38.0    M  nap     138.0  175.0  ...     0.0    1.0  NaN   3.0    0.0\n",
            "\n",
            "[303 rows x 14 columns]\n"
          ]
        }
      ]
    },
    {
      "cell_type": "markdown",
      "metadata": {
        "id": "cJxrmy_ardfS"
      },
      "source": [
        "Read data without header"
      ]
    },
    {
      "cell_type": "code",
      "metadata": {
        "colab": {
          "base_uri": "https://localhost:8080/"
        },
        "id": "h2o81ITtrOrc",
        "outputId": "36abcc6a-ca39-4fe0-86f1-a47bc5f4a24a"
      },
      "source": [
        "import pandas as pd\n",
        "heartDisease = pd.read_csv(\"https://raw.githubusercontent.com/huynhhoc/DataAnalystDeepLearning/main/heart_disease_dataset.csv\", header = None)\n",
        "print (heartDisease)"
      ],
      "execution_count": 2,
      "outputs": [
        {
          "output_type": "stream",
          "name": "stdout",
          "text": [
            "      0    1    2         3     4   ...       9      10   11    12     13\n",
            "0    age  sex   cp  trestbps  chol  ...  oldpeak  slope   ca  thal  state\n",
            "1     63    M  tap       145   233  ...      2.3      3    0     6      0\n",
            "2     67    M  asp       160   286  ...      1.5      2    3     3      2\n",
            "3     67    M  asp       120   229  ...      2.6      2    2     7      1\n",
            "4     37    M  nap       130   250  ...      3.5      3    0     3      0\n",
            "..   ...  ...  ...       ...   ...  ...      ...    ...  ...   ...    ...\n",
            "299   45    M  tap       110   264  ...      1.2      2    0     7      1\n",
            "300   68    M  asp       144   193  ...      3.4      2    2     7      2\n",
            "301  NaN  NaN  NaN       NaN   NaN  ...      NaN    NaN  NaN   NaN    NaN\n",
            "302   57    F  aap       130   236  ...        0      2    1     3      1\n",
            "303   38    M  nap       138   175  ...        0      1  NaN     3      0\n",
            "\n",
            "[304 rows x 14 columns]\n"
          ]
        }
      ]
    },
    {
      "cell_type": "markdown",
      "metadata": {
        "id": "COZb1jNqw7Sr"
      },
      "source": [
        ""
      ]
    },
    {
      "cell_type": "code",
      "metadata": {
        "colab": {
          "base_uri": "https://localhost:8080/"
        },
        "id": "s2Sdn9VlrSgK",
        "outputId": "54e07c06-1f4b-472c-ad51-0183ada0fe07"
      },
      "source": [
        "import pandas as pd\n",
        "import numpy as np\n",
        "frame = pd.DataFrame(np.arange(16).reshape(4,4),index = ['red', 'blue', 'yellow','white'],columns = ['ball', 'pen', 'pencil', 'paper'])\n",
        "print(frame)"
      ],
      "execution_count": 3,
      "outputs": [
        {
          "output_type": "stream",
          "name": "stdout",
          "text": [
            "        ball  pen  pencil  paper\n",
            "red        0    1       2      3\n",
            "blue       4    5       6      7\n",
            "yellow     8    9      10     11\n",
            "white     12   13      14     15\n"
          ]
        }
      ]
    },
    {
      "cell_type": "code",
      "metadata": {
        "colab": {
          "base_uri": "https://localhost:8080/"
        },
        "id": "p61_aqH_i1w9",
        "outputId": "496c72a8-54ed-4f0c-ef05-cf16fb6541e7"
      },
      "source": [
        "newframe = pd.DataFrame(frame, columns=['paper','pen'])\n",
        "print(newframe)"
      ],
      "execution_count": 12,
      "outputs": [
        {
          "output_type": "stream",
          "name": "stdout",
          "text": [
            "        paper  pen\n",
            "red         3    1\n",
            "blue        7    5\n",
            "yellow     11    9\n",
            "white      15   13\n"
          ]
        }
      ]
    },
    {
      "cell_type": "markdown",
      "metadata": {
        "id": "5mNRwvoC4yOd"
      },
      "source": [
        "Filter frame"
      ]
    },
    {
      "cell_type": "code",
      "metadata": {
        "colab": {
          "base_uri": "https://localhost:8080/"
        },
        "id": "-0ejrhR74jTY",
        "outputId": "2fa5deb1-5a89-4c0d-b9cf-7960ec367e9e"
      },
      "source": [
        "filteredFrame = frame[frame < 11]\n",
        "print(filteredFrame)"
      ],
      "execution_count": 4,
      "outputs": [
        {
          "output_type": "stream",
          "name": "stdout",
          "text": [
            "        ball  pen  pencil  paper\n",
            "red      0.0  1.0     2.0    3.0\n",
            "blue     4.0  5.0     6.0    7.0\n",
            "yellow   8.0  9.0    10.0    NaN\n",
            "white    NaN  NaN     NaN    NaN\n"
          ]
        }
      ]
    },
    {
      "cell_type": "code",
      "metadata": {
        "colab": {
          "base_uri": "https://localhost:8080/",
          "height": 111
        },
        "id": "t1e5qVfP4xVu",
        "outputId": "b5713a19-56da-49d4-ee8c-edd9b1a7eb35"
      },
      "source": [
        "filteredFrame.dropna()"
      ],
      "execution_count": 5,
      "outputs": [
        {
          "output_type": "execute_result",
          "data": {
            "text/html": [
              "<div>\n",
              "<style scoped>\n",
              "    .dataframe tbody tr th:only-of-type {\n",
              "        vertical-align: middle;\n",
              "    }\n",
              "\n",
              "    .dataframe tbody tr th {\n",
              "        vertical-align: top;\n",
              "    }\n",
              "\n",
              "    .dataframe thead th {\n",
              "        text-align: right;\n",
              "    }\n",
              "</style>\n",
              "<table border=\"1\" class=\"dataframe\">\n",
              "  <thead>\n",
              "    <tr style=\"text-align: right;\">\n",
              "      <th></th>\n",
              "      <th>ball</th>\n",
              "      <th>pen</th>\n",
              "      <th>pencil</th>\n",
              "      <th>paper</th>\n",
              "    </tr>\n",
              "  </thead>\n",
              "  <tbody>\n",
              "    <tr>\n",
              "      <th>red</th>\n",
              "      <td>0.0</td>\n",
              "      <td>1.0</td>\n",
              "      <td>2.0</td>\n",
              "      <td>3.0</td>\n",
              "    </tr>\n",
              "    <tr>\n",
              "      <th>blue</th>\n",
              "      <td>4.0</td>\n",
              "      <td>5.0</td>\n",
              "      <td>6.0</td>\n",
              "      <td>7.0</td>\n",
              "    </tr>\n",
              "  </tbody>\n",
              "</table>\n",
              "</div>"
            ],
            "text/plain": [
              "      ball  pen  pencil  paper\n",
              "red    0.0  1.0     2.0    3.0\n",
              "blue   4.0  5.0     6.0    7.0"
            ]
          },
          "metadata": {},
          "execution_count": 5
        }
      ]
    },
    {
      "cell_type": "code",
      "metadata": {
        "colab": {
          "base_uri": "https://localhost:8080/"
        },
        "id": "pdey7r4AYJ-m",
        "outputId": "ba48dda7-1a17-4cc9-cd7b-e313c5364d51"
      },
      "source": [
        "print (filteredFrame)"
      ],
      "execution_count": 6,
      "outputs": [
        {
          "output_type": "stream",
          "name": "stdout",
          "text": [
            "        ball  pen  pencil  paper\n",
            "red      0.0  1.0     2.0    3.0\n",
            "blue     4.0  5.0     6.0    7.0\n",
            "yellow   8.0  9.0    10.0    NaN\n",
            "white    NaN  NaN     NaN    NaN\n"
          ]
        }
      ]
    },
    {
      "cell_type": "code",
      "metadata": {
        "colab": {
          "base_uri": "https://localhost:8080/"
        },
        "id": "AQBV9lB8YRFF",
        "outputId": "cef84b1e-a8f3-4cef-ebfa-26d8814189f0"
      },
      "source": [
        "fillnazeroFrame = filteredFrame.fillna(0)\n",
        "print(fillnazeroFrame)"
      ],
      "execution_count": 8,
      "outputs": [
        {
          "output_type": "stream",
          "name": "stdout",
          "text": [
            "        ball  pen  pencil  paper\n",
            "red      0.0  1.0     2.0    3.0\n",
            "blue     4.0  5.0     6.0    7.0\n",
            "yellow   8.0  9.0    10.0    0.0\n",
            "white    0.0  0.0     0.0    0.0\n"
          ]
        }
      ]
    },
    {
      "cell_type": "code",
      "metadata": {
        "colab": {
          "base_uri": "https://localhost:8080/"
        },
        "id": "tLkWNkp2Y52Q",
        "outputId": "f0afbc02-bbbe-4176-93a0-3ad641ed1d1c"
      },
      "source": [
        "dropAllFrame = filteredFrame.dropna(how='all')\n",
        "print(dropAllFrame)"
      ],
      "execution_count": 10,
      "outputs": [
        {
          "output_type": "stream",
          "name": "stdout",
          "text": [
            "        ball  pen  pencil  paper\n",
            "red      0.0  1.0     2.0    3.0\n",
            "blue     4.0  5.0     6.0    7.0\n",
            "yellow   8.0  9.0    10.0    NaN\n"
          ]
        }
      ]
    },
    {
      "cell_type": "markdown",
      "metadata": {
        "id": "HA_d8Fxnygks"
      },
      "source": [
        "There are two steps to save dataframe as csv file in google drive:\n",
        "\n",
        "**Step 1**: mount google colab with google drive\n",
        "\n",
        "**Step 2**: use to_csv('/drive/My Drive' + '/DataAnalyst/filename.csv') function to export this file into DataAnalyst folder.\n",
        "\n",
        "Note: \n",
        "1. '**/drive/My Drive**': is constant.\n",
        "2. **DataAnalyst** folder is an example of folder in your google drive"
      ]
    },
    {
      "cell_type": "code",
      "metadata": {
        "id": "M9cYgHQcyvDm"
      },
      "source": [
        "from google.colab import drive\n",
        "drive.mount('/drive')"
      ],
      "execution_count": null,
      "outputs": []
    },
    {
      "cell_type": "code",
      "metadata": {
        "id": "GnOy43VBq42d"
      },
      "source": [
        "frame.to_csv('/drive/My Drive/DataAnalyst/lab01_example8.csv')"
      ],
      "execution_count": null,
      "outputs": []
    },
    {
      "cell_type": "code",
      "metadata": {
        "id": "xHUcZ6DqxpgR"
      },
      "source": [
        ""
      ],
      "execution_count": null,
      "outputs": []
    },
    {
      "cell_type": "code",
      "metadata": {
        "id": "xDo68FX40DAu"
      },
      "source": [
        ""
      ],
      "execution_count": null,
      "outputs": []
    }
  ]
}